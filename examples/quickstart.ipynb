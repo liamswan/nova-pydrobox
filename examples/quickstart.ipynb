{
 "cells": [
  {
   "cell_type": "markdown",
   "metadata": {},
   "source": [
    "# Nova PyDropbox Quickstart\n",
    "This notebook demonstrates the key features of nova-pydrobox for managing Dropbox files and folders."
   ]
  },
  {
   "cell_type": "markdown",
   "metadata": {},
   "source": [
    "## Setup\n",
    "First, let's import the necessary components and authenticate with Dropbox."
   ]
  },
  {
   "cell_type": "code",
   "execution_count": 1,
   "metadata": {},
   "outputs": [],
   "source": [
    "\n",
    "from nova_pydrobox import Authenticator, FileOperations, FolderOperations\n",
    "from nova_pydrobox.operations.base import FileFilter, FileType"
   ]
  },
  {
   "cell_type": "code",
   "execution_count": 3,
   "metadata": {},
   "outputs": [
    {
     "name": "stderr",
     "output_type": "stream",
     "text": [
      "2025-02-17 09:15:18,286 - nova_pydrobox.auth.token_storage - INFO - Using keyring backend for token storage\n",
      "2025-02-17 09:15:18,286 - nova_pydrobox.auth.token_storage - INFO - Using Fernet encryption backend for token storage\n"
     ]
    },
    {
     "name": "stdout",
     "output_type": "stream",
     "text": [
      "\n",
      "=== Dropbox API Credentials Setup Guide ===\n",
      "\n",
      "1. I'll open the Dropbox App Console in your browser.\n",
      "2. If you're not logged in, please log in to your Dropbox account.\n",
      "3. Click 'Create app' if you haven't created one yet.\n",
      "\n",
      "In the Dropbox App Console:\n",
      "1. Choose 'Scoped access' for API access type\n",
      "2. Choose 'Full Dropbox' or 'App folder' based on your needs\n",
      "3. Give your app a unique name\n",
      "\n",
      "Once created, in your app's settings:\n",
      "1. Find the 'App key' and 'App secret' under the Settings tab\n",
      "2. Enter them below\n",
      "\n",
      "\n",
      "1. I'll open the Dropbox authentication page in your browser.\n",
      "2. Select an account. (you might have to log in first)\n",
      "3. Click 'Allow'.\n",
      "4. Copy the authorization code.\n",
      "\n",
      "Authenticating...\n"
     ]
    },
    {
     "name": "stderr",
     "output_type": "stream",
     "text": [
      "2025-02-17 09:16:11,198 - nova_pydrobox.auth.token_storage - INFO - Tokens saved successfully using Fernet encryption\n"
     ]
    },
    {
     "name": "stdout",
     "output_type": "stream",
     "text": [
      "DEBUG: Attempt 1 to save tokens\n",
      "\n",
      "Authentication successful! Tokens securely stored.\n"
     ]
    },
    {
     "data": {
      "text/plain": [
       "True"
      ]
     },
     "execution_count": 3,
     "metadata": {},
     "output_type": "execute_result"
    }
   ],
   "source": [
    "# Authentication\n",
    "auth = Authenticator()\n",
    "auth.authenticate_dropbox(force_reauth=True, force_fernet=True)"
   ]
  },
  {
   "cell_type": "markdown",
   "metadata": {},
   "source": [
    "\n",
    "## File Operations\n",
    "\n",
    "### Basic File Operations\n",
    "Let's start with basic file operations like uploading and downloading files."
   ]
  },
  {
   "cell_type": "code",
   "execution_count": null,
   "metadata": {},
   "outputs": [],
   "source": [
    "# Initialize file operations\n",
    "files = FileOperations()\n",
    "\n",
    "# Upload a single file\n",
    "upload_result = files.upload('example.txt', '/example.txt')\n",
    "print(f\"Upload result:\\n{upload_result}\\n\")\n",
    "\n",
    "# Download a file\n",
    "download_result = files.download('/example.txt', 'downloaded_example.txt')\n",
    "print(f\"Download result:\\n{download_result}\\n\")"
   ]
  },
  {
   "cell_type": "markdown",
   "metadata": {},
   "source": [
    "### Folder management\n",
    "\n",
    "Now, let's explore folder management capabilities using `FolderOperations` from nova-pydrobox. This class allows you to create, delete, manage and analyse folders within your Dropbox account."
   ]
  },
  {
   "cell_type": "code",
   "execution_count": null,
   "metadata": {},
   "outputs": [],
   "source": [
    "# Initialize folder operations\n",
    "folders = FolderOperations()\n",
    "\n",
    "# Create a new folder\n",
    "new_folder = folders.create_folder('/test_folder')\n",
    "print(f\"Created folder:\\n{new_folder}\\n\")\n",
    "\n",
    "# Get folder information\n",
    "folder_size = folders.get_folder_size('/test_folder')\n",
    "is_empty = folders.is_empty('/test_folder')\n",
    "structure = folders.get_folder_structure('/test_folder')\n",
    "\n",
    "print(f\"Folder size: {folder_size} bytes\")\n",
    "print(f\"Is empty: {is_empty}\")\n",
    "print(f\"Structure:\\n{structure}\")"
   ]
  },
  {
   "cell_type": "code",
   "execution_count": null,
   "metadata": {},
   "outputs": [],
   "source": [
    "# Move, copy, and rename operations\n",
    "move_result = files.move('/example.txt', '/test_folder/example.txt')\n",
    "copy_result = files.copy('/test_folder/example.txt', '/example_copy.txt')\n",
    "rename_result = files.rename('/example_copy.txt', 'new_name.txt')\n",
    "\n",
    "print(f\"Move result: {move_result}\")\n",
    "print(f\"Copy result: {copy_result}\")\n",
    "print(f\"Rename result: {rename_result}\")"
   ]
  },
  {
   "cell_type": "markdown",
   "metadata": {},
   "source": [
    "\n",
    "\n",
    "### File Filtering and Search"
   ]
  },
  {
   "cell_type": "code",
   "execution_count": null,
   "metadata": {},
   "outputs": [],
   "source": [
    "# Create filter criteria\n",
    "filter_criteria = FileFilter(\n",
    "    file_type=FileType.DOCUMENT,\n",
    "    min_size=1000,  # 1KB\n",
    "    max_size=1000000,  # 1MB\n",
    "    recursive=True\n",
    ")\n",
    "\n",
    "# List files with filters\n",
    "file_list = files.list_files('/test_folder', filter_criteria)\n",
    "print(f\"Filtered file list:\\n{file_list}\\n\")\n",
    "\n",
    "# Search for files\n",
    "search_results = files.search('example', path='/test_folder')\n",
    "print(f\"Search results:\\n{search_results}\\n\")"
   ]
  },
  {
   "cell_type": "markdown",
   "metadata": {},
   "source": [
    "\n",
    "## Directory Operations\n",
    "Now let's look at operations involving entire directories."
   ]
  },
  {
   "cell_type": "code",
   "execution_count": null,
   "metadata": {},
   "outputs": [],
   "source": [
    "# Upload a directory\n",
    "dir_upload = files.upload('example_dir', '/example_dir')\n",
    "print(f\"Directory upload result:\\n{dir_upload}\\n\")\n",
    "\n",
    "# Download a directory\n",
    "dir_download = files.download('/example_dir', 'downloaded_dir')\n",
    "print(f\"Directory download result:\\n{dir_download}\")"
   ]
  },
  {
   "cell_type": "code",
   "execution_count": null,
   "metadata": {},
   "outputs": [],
   "source": [
    "# Upload a directory\n",
    "dir_upload = files.upload('example_dir', '/example_dir')\n",
    "print(f\"Directory upload result:\\n{dir_upload}\\n\")\n",
    "\n",
    "# Download a directory\n",
    "dir_download = files.download('/example_dir', 'downloaded_dir')\n",
    "print(f\"Directory download result:\\n{dir_download}\")"
   ]
  },
  {
   "cell_type": "markdown",
   "metadata": {},
   "source": [
    "\n",
    "## Error Handling\n",
    "\n",
    "Example of handling common errors when working with files."
   ]
  },
  {
   "cell_type": "code",
   "execution_count": null,
   "metadata": {},
   "outputs": [],
   "source": [
    "\n",
    "try:\n",
    "    # Try to access a non-existent file\n",
    "    files.download('/nonexistent.txt', 'local.txt')\n",
    "except Exception as e:\n",
    "    print(f\"Error handled: {e}\")\n"
   ]
  }
 ],
 "metadata": {
  "kernelspec": {
   "display_name": ".venv (3.12.9)",
   "language": "python",
   "name": "python3"
  },
  "language_info": {
   "codemirror_mode": {
    "name": "ipython",
    "version": 3
   },
   "file_extension": ".py",
   "mimetype": "text/x-python",
   "name": "python",
   "nbconvert_exporter": "python",
   "pygments_lexer": "ipython3",
   "version": "3.12.9"
  }
 },
 "nbformat": 4,
 "nbformat_minor": 2
}
