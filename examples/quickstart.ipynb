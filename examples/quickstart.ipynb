{
 "cells": [
  {
   "cell_type": "markdown",
   "metadata": {},
   "source": [
    "# Nova PyDropbox Quickstart\n",
    "This notebook demonstrates the key features of nova-pydrobox."
   ]
  },
  {
   "cell_type": "code",
   "execution_count": null,
   "metadata": {},
   "outputs": [],
   "source": [
    "from nova_pydrobox import Authenticator, FileOperations, FolderOperations\n",
    "\n",
    "# Authentication\n",
    "auth = Authenticator()\n",
    "auth.authenticate_dropbox()"
   ]
  },
  {
   "cell_type": "markdown",
   "metadata": {},
   "source": [
    "## File Operations"
   ]
  },
  {
   "cell_type": "code",
   "execution_count": null,
   "metadata": {},
   "outputs": [],
   "source": [
    "# Initialize file operations\n",
    "files = FileOperations()\n",
    "\n",
    "# Upload example\n",
    "upload_result = files.upload('local_file.txt', '/remote_file.txt')\n",
    "print(f\"Upload result: {upload_result}\")"
   ]
  }
 ],
 "metadata": {
  "kernelspec": {
   "display_name": "Python 3",
   "language": "python",
   "name": "python3"
  },
  "language_info": {
   "name": "python",
   "version": "3.13.2"
  }
 },
 "nbformat": 4,
 "nbformat_minor": 2
}
