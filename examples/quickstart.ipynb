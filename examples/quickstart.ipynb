{
 "cells": [
  {
   "cell_type": "markdown",
   "metadata": {},
   "source": [
    "# Nova PyDropbox Quickstart\n",
    "This notebook demonstrates the key features of nova-pydrobox for managing Dropbox files and folders."
   ]
  },
  {
   "cell_type": "markdown",
   "metadata": {},
   "source": [
    "## Setup\n",
    "First, let's import the necessary components and authenticate with Dropbox."
   ]
  },
  {
   "cell_type": "code",
   "execution_count": 1,
   "metadata": {},
   "outputs": [],
   "source": [
    "\n",
    "from nova_pydrobox import Authenticator, FileOperations, FolderOperations\n",
    "from nova_pydrobox.operations.base import FileFilter, FileType"
   ]
  },
  {
   "cell_type": "code",
   "execution_count": 6,
   "metadata": {},
   "outputs": [
    {
     "name": "stderr",
     "output_type": "stream",
     "text": [
      "2025-02-21 14:45:26,823 - nova_pydrobox.auth.token_storage - INFO - Using keyring backend for token storage\n",
      "2025-02-21 14:45:26,857 - nova_pydrobox.auth.token_storage - INFO - Using Fernet encryption backend for token storage\n"
     ]
    },
    {
     "name": "stdout",
     "output_type": "stream",
     "text": [
      "Already authenticated. Skipping authentication process.\n"
     ]
    },
    {
     "data": {
      "text/plain": [
       "True"
      ]
     },
     "execution_count": 6,
     "metadata": {},
     "output_type": "execute_result"
    }
   ],
   "source": [
    "# Authentication\n",
    "auth = Authenticator()\n",
    "auth.authenticate_dropbox(force_fernet=True)"
   ]
  },
  {
   "cell_type": "markdown",
   "metadata": {},
   "source": [
    "\n",
    "## File Operations\n",
    "\n",
    "### Basic File Operations\n",
    "Let's start with basic file operations like uploading and downloading files."
   ]
  },
  {
   "cell_type": "code",
   "execution_count": 7,
   "metadata": {},
   "outputs": [
    {
     "name": "stderr",
     "output_type": "stream",
     "text": [
      "2025-02-21 14:45:34,158 - dropbox - INFO - Refreshing access token.\n",
      "2025-02-21 14:45:34,840 - dropbox - INFO - Request to users/get_current_account\n",
      "2025-02-21 14:45:35,811 - nova_pydrobox.auth.authenticator - INFO - Successfully connected to Dropbox\n",
      "2025-02-21 14:45:35,847 - nova_pydrobox.auth.token_storage - INFO - Using keyring backend for token storage\n",
      "2025-02-21 14:45:35,854 - dropbox - INFO - Refreshing access token.\n",
      "2025-02-21 14:45:36,431 - nova_pydrobox.auth.authenticator - ERROR - Error connecting to Dropbox: BadInputError('f2af02590d6846aca2f259259041c6b1', '{\"error\": \"invalid_client: Invalid client_id or client_secret\"}')\n"
     ]
    },
    {
     "ename": "ConnectionError",
     "evalue": "Could not initialize Dropbox client",
     "output_type": "error",
     "traceback": [
      "\u001b[0;31m---------------------------------------------------------------------------\u001b[0m",
      "\u001b[0;31mConnectionError\u001b[0m                           Traceback (most recent call last)",
      "Cell \u001b[0;32mIn[7], line 4\u001b[0m\n\u001b[1;32m      1\u001b[0m \u001b[38;5;66;03m# Initialize file operations\u001b[39;00m\n\u001b[1;32m      2\u001b[0m dbx \u001b[38;5;241m=\u001b[39m auth\u001b[38;5;241m.\u001b[39mget_dropbox_client()\n\u001b[0;32m----> 4\u001b[0m files \u001b[38;5;241m=\u001b[39m \u001b[43mFileOperations\u001b[49m\u001b[43m(\u001b[49m\u001b[43m)\u001b[49m\n\u001b[1;32m      7\u001b[0m files\u001b[38;5;241m.\u001b[39mlist_files()\n\u001b[1;32m      8\u001b[0m \u001b[38;5;66;03m# Upload a single file\u001b[39;00m\n\u001b[1;32m      9\u001b[0m \u001b[38;5;66;03m# upload_result = files.upload('examples/example.txt', '/example.txt')\u001b[39;00m\n\u001b[1;32m     10\u001b[0m \u001b[38;5;66;03m# print(f\"Upload result:\\n{upload_result}\\n\")\u001b[39;00m\n\u001b[0;32m   (...)\u001b[0m\n\u001b[1;32m     13\u001b[0m \u001b[38;5;66;03m# download_result = files.download('/example.txt', 'downloaded_example.txt')\u001b[39;00m\n\u001b[1;32m     14\u001b[0m \u001b[38;5;66;03m# print(f\"Download result:\\n{download_result}\\n\")\u001b[39;00m\n",
      "File \u001b[0;32m~/Nova SA Dropbox/Liam Swanepoel/LS_personal/Work/Python/nova-pydrobox/nova_pydrobox/operations/base.py:95\u001b[0m, in \u001b[0;36mBaseOperations.__init__\u001b[0;34m(self, max_workers, dbx_client)\u001b[0m\n\u001b[1;32m     93\u001b[0m \u001b[38;5;28mself\u001b[39m\u001b[38;5;241m.\u001b[39mdbx \u001b[38;5;241m=\u001b[39m dbx_client \u001b[38;5;28;01mif\u001b[39;00m dbx_client \u001b[38;5;28;01melse\u001b[39;00m get_dropbox_client()\n\u001b[1;32m     94\u001b[0m \u001b[38;5;28;01mif\u001b[39;00m \u001b[38;5;129;01mnot\u001b[39;00m \u001b[38;5;28mself\u001b[39m\u001b[38;5;241m.\u001b[39mdbx:\n\u001b[0;32m---> 95\u001b[0m     \u001b[38;5;28;01mraise\u001b[39;00m \u001b[38;5;167;01mConnectionError\u001b[39;00m(\u001b[38;5;124m\"\u001b[39m\u001b[38;5;124mCould not initialize Dropbox client\u001b[39m\u001b[38;5;124m\"\u001b[39m)\n\u001b[1;32m     96\u001b[0m \u001b[38;5;28mself\u001b[39m\u001b[38;5;241m.\u001b[39mmax_workers \u001b[38;5;241m=\u001b[39m max_workers\n",
      "\u001b[0;31mConnectionError\u001b[0m: Could not initialize Dropbox client"
     ]
    }
   ],
   "source": [
    "# Initialize file operations\n",
    "dbx = auth.get_dropbox_client()\n",
    "\n",
    "files = FileOperations()\n",
    "\n",
    "\n",
    "files.list_files()\n",
    "# Upload a single file\n",
    "# upload_result = files.upload('examples/example.txt', '/example.txt')\n",
    "# print(f\"Upload result:\\n{upload_result}\\n\")\n",
    "\n",
    "# Download a file\n",
    "# download_result = files.download('/example.txt', 'downloaded_example.txt')\n",
    "# print(f\"Download result:\\n{download_result}\\n\")"
   ]
  },
  {
   "cell_type": "markdown",
   "metadata": {},
   "source": [
    "### Folder management\n",
    "\n",
    "Now, let's explore folder management capabilities using `FolderOperations` from nova-pydrobox. This class allows you to create, delete, manage and analyse folders within your Dropbox account."
   ]
  },
  {
   "cell_type": "code",
   "execution_count": null,
   "metadata": {},
   "outputs": [],
   "source": [
    "# Initialize folder operations\n",
    "folders = FolderOperations()\n",
    "\n",
    "# Create a new folder\n",
    "new_folder = folders.create_folder('/test_folder')\n",
    "print(f\"Created folder:\\n{new_folder}\\n\")\n",
    "\n",
    "# Get folder information\n",
    "folder_size = folders.get_folder_size('/test_folder')\n",
    "is_empty = folders.is_empty('/test_folder')\n",
    "structure = folders.get_folder_structure('/test_folder')\n",
    "\n",
    "print(f\"Folder size: {folder_size} bytes\")\n",
    "print(f\"Is empty: {is_empty}\")\n",
    "print(f\"Structure:\\n{structure}\")"
   ]
  },
  {
   "cell_type": "code",
   "execution_count": null,
   "metadata": {},
   "outputs": [],
   "source": [
    "# Move, copy, and rename operations\n",
    "move_result = files.move('/example.txt', '/test_folder/example.txt')\n",
    "copy_result = files.copy('/test_folder/example.txt', '/example_copy.txt')\n",
    "rename_result = files.rename('/example_copy.txt', 'new_name.txt')\n",
    "\n",
    "print(f\"Move result: {move_result}\")\n",
    "print(f\"Copy result: {copy_result}\")\n",
    "print(f\"Rename result: {rename_result}\")"
   ]
  },
  {
   "cell_type": "markdown",
   "metadata": {},
   "source": [
    "\n",
    "\n",
    "### File Filtering and Search"
   ]
  },
  {
   "cell_type": "code",
   "execution_count": null,
   "metadata": {},
   "outputs": [],
   "source": [
    "# Create filter criteria\n",
    "filter_criteria = FileFilter(\n",
    "    file_type=FileType.DOCUMENT,\n",
    "    min_size=1000,  # 1KB\n",
    "    max_size=1000000,  # 1MB\n",
    "    recursive=True\n",
    ")\n",
    "\n",
    "# List files with filters\n",
    "file_list = files.list_files('/test_folder', filter_criteria)\n",
    "print(f\"Filtered file list:\\n{file_list}\\n\")\n",
    "\n",
    "# Search for files\n",
    "search_results = files.search('example', path='/test_folder')\n",
    "print(f\"Search results:\\n{search_results}\\n\")"
   ]
  },
  {
   "cell_type": "markdown",
   "metadata": {},
   "source": [
    "\n",
    "## Directory Operations\n",
    "Now let's look at operations involving entire directories."
   ]
  },
  {
   "cell_type": "code",
   "execution_count": null,
   "metadata": {},
   "outputs": [],
   "source": [
    "# Upload a directory\n",
    "dir_upload = files.upload('example_dir', '/example_dir')\n",
    "print(f\"Directory upload result:\\n{dir_upload}\\n\")\n",
    "\n",
    "# Download a directory\n",
    "dir_download = files.download('/example_dir', 'downloaded_dir')\n",
    "print(f\"Directory download result:\\n{dir_download}\")"
   ]
  },
  {
   "cell_type": "code",
   "execution_count": null,
   "metadata": {},
   "outputs": [],
   "source": [
    "# Upload a directory\n",
    "dir_upload = files.upload('example_dir', '/example_dir')\n",
    "print(f\"Directory upload result:\\n{dir_upload}\\n\")\n",
    "\n",
    "# Download a directory\n",
    "dir_download = files.download('/example_dir', 'downloaded_dir')\n",
    "print(f\"Directory download result:\\n{dir_download}\")"
   ]
  },
  {
   "cell_type": "markdown",
   "metadata": {},
   "source": [
    "\n",
    "## Error Handling\n",
    "\n",
    "Example of handling common errors when working with files."
   ]
  },
  {
   "cell_type": "code",
   "execution_count": null,
   "metadata": {},
   "outputs": [],
   "source": [
    "\n",
    "try:\n",
    "    # Try to access a non-existent file\n",
    "    files.download('/nonexistent.txt', 'local.txt')\n",
    "except Exception as e:\n",
    "    print(f\"Error handled: {e}\")\n"
   ]
  }
 ],
 "metadata": {
  "kernelspec": {
   "display_name": ".venv (3.12.9)",
   "language": "python",
   "name": "python3"
  },
  "language_info": {
   "codemirror_mode": {
    "name": "ipython",
    "version": 3
   },
   "file_extension": ".py",
   "mimetype": "text/x-python",
   "name": "python",
   "nbconvert_exporter": "python",
   "pygments_lexer": "ipython3",
   "version": "3.12.9"
  }
 },
 "nbformat": 4,
 "nbformat_minor": 2
}
